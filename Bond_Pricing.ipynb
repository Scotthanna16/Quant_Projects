{
 "cells": [
  {
   "cell_type": "markdown",
   "id": "c402aebb",
   "metadata": {},
   "source": [
    "# Intro\n",
    "#### This is a workbook about bonds. We will start by explaining what a bond is. Next we will explain how they are used, and the different types of bonds. Finally, we will delve into the mathematics of pricing a bond, and provide the python code to do so."
   ]
  },
  {
   "cell_type": "markdown",
   "id": "d19be4a5",
   "metadata": {},
   "source": [
    "# Part 1: All about Bonds"
   ]
  },
  {
   "cell_type": "markdown",
   "id": "5ca89d49",
   "metadata": {},
   "source": [
    "## What is a bond?\n",
    "#### A bond is a security that essentially acts as a loan. Bonds are offered by companies and governments who want to raise money. Investors buy bonds, essentially loaning money to the government or the company issuing the bond. In return, the issuing party pays the investor back with interest. The payments are generally made over a set schedule and are called coupons. The day of the final payment is known as the maturity date. Certain bonds make payments indefinitely, these bonds are called perpetual bonds. "
   ]
  },
  {
   "cell_type": "markdown",
   "id": "40748d95",
   "metadata": {},
   "source": [
    "## How are bonds used?"
   ]
  },
  {
   "cell_type": "markdown",
   "id": "b76a1b3e",
   "metadata": {},
   "source": [
    "#### Bonds are generally bought by investors looking for consistent returns. Government bonds are viewed as very safe investments, with US treasury bonds viewed as being practically risk free. Since the prices of bonds depend heavily on interest rates, the movement of bond prices can tell one a lot about the expectations of an economic system. Finally, bonds help us create the yield curve, which can be useful when pricing other instruments. "
   ]
  },
  {
   "cell_type": "markdown",
   "id": "2f43d5e6",
   "metadata": {},
   "source": [
    "# Part 2: Pricing a Bond"
   ]
  },
  {
   "cell_type": "markdown",
   "id": "60da6fc5",
   "metadata": {},
   "source": [
    "## Pricing the Coupons\n",
    "#### Generally, the amount of a coupon is determined by the coupon rate, $r$, multiplied by the face value of the bond, $F$. Of course, we also need to discount the payments to take into account how inflation affects their value. This means the total present value of all the coupons is given by\n",
    "$$\n",
    "\\sum_{t=1}^n \\frac{Fr}{(1+i)^t} = \\frac{Fr}{(1+i)^1} + \\frac{Fr}{(1+i)^2} + ... + \\frac{Fr}{(1+i)^n}\n",
    "$$"
   ]
  },
  {
   "cell_type": "markdown",
   "id": "954930af",
   "metadata": {},
   "source": [
    "## Pricing the value of the Bond at maturity\n",
    "#### When a bond matures, the bond issuer a lump sum, C, which is known as the redemtion value. Again, when pricing the bond we need to take into account how inflation affects the value of the amount C. This gives us\n",
    "$$\\frac{C}{(1+i)^n}$$\n",
    "#### The price for the coupons plus the price of the bond at maturity results in our final equation\n",
    "$$\n",
    "PV = \\sum_{t=1}^n \\frac{Fr}{(1+i)^t} + \\frac{C}{(1+i)^n}\n",
    "$$"
   ]
  },
  {
   "cell_type": "markdown",
   "id": "1a41c0fc",
   "metadata": {},
   "source": [
    "## Python for Bond Pricing\n",
    "#### First we start by defining some constants. Next we find the present value of the coupons, to do this we simply iterate through a for loop. Notice how the exponent is $t+1$. This is because $t$ starts with a value of 0. I believe the rest is fairly simple to understand."
   ]
  },
  {
   "cell_type": "code",
   "execution_count": 1,
   "id": "12052818",
   "metadata": {},
   "outputs": [
    {
     "name": "stdout",
     "output_type": "stream",
     "text": [
      "1091.5941437438908\n"
     ]
    }
   ],
   "source": [
    "N = 5 #5 years to maturity\n",
    "r = .05 # coupon rate\n",
    "i = .03 # discount rate\n",
    "F = 1000 #Face value\n",
    "C = 1000 #Redemption value, it is common for face value to equal redemption value\n",
    "\n",
    "Coupons = 0\n",
    "\n",
    "#Calculating the PV of the Coupons\n",
    "#Assumes yearly coupons, paid 1 year from start of bond\n",
    "for t in range(N):\n",
    "    Coupons += F*r/((1+i)**(t+1))\n",
    "\n",
    "Redemption = C/((1+i)**N)\n",
    "\n",
    "PV = Coupons + Redemption\n",
    "print(PV)"
   ]
  }
 ],
 "metadata": {
  "kernelspec": {
   "display_name": "Python 3 (ipykernel)",
   "language": "python",
   "name": "python3"
  },
  "language_info": {
   "codemirror_mode": {
    "name": "ipython",
    "version": 3
   },
   "file_extension": ".py",
   "mimetype": "text/x-python",
   "name": "python",
   "nbconvert_exporter": "python",
   "pygments_lexer": "ipython3",
   "version": "3.9.7"
  }
 },
 "nbformat": 4,
 "nbformat_minor": 5
}
